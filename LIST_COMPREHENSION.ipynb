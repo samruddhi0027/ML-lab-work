{
  "nbformat": 4,
  "nbformat_minor": 0,
  "metadata": {
    "colab": {
      "name": "LIST COMPREHENSION",
      "provenance": [],
      "authorship_tag": "ABX9TyNEw5LS8SQYKpMLw5ThbqF7",
      "include_colab_link": true
    },
    "kernelspec": {
      "name": "python3",
      "display_name": "Python 3"
    },
    "language_info": {
      "name": "python"
    }
  },
  "cells": [
    {
      "cell_type": "markdown",
      "metadata": {
        "id": "view-in-github",
        "colab_type": "text"
      },
      "source": [
        "<a href=\"https://colab.research.google.com/github/mayurbohra9/Machine-Learning/blob/main/LIST_COMPREHENSION.ipynb\" target=\"_parent\"><img src=\"https://colab.research.google.com/assets/colab-badge.svg\" alt=\"Open In Colab\"/></a>"
      ]
    },
    {
      "cell_type": "code",
      "execution_count": 3,
      "metadata": {
        "colab": {
          "base_uri": "https://localhost:8080/"
        },
        "id": "KCQtWkMh8LKh",
        "outputId": "7ad5ab3f-164a-414e-9a83-4121a2886dbb"
      },
      "outputs": [
        {
          "output_type": "execute_result",
          "data": {
            "text/plain": [
              "[100, 196, 400]"
            ]
          },
          "metadata": {},
          "execution_count": 3
        }
      ],
      "source": [
        "#To print the square of numbers provided in the list given if it is greater than 50.\n",
        "\n",
        "L=[10,2,14,20]\n",
        "\n",
        "[i**2 for i in L if ( i**2>50)]"
      ]
    },
    {
      "cell_type": "code",
      "source": [
        "# For the given list if the value i greater than 5 then print \"HI\" else print \"BYE\"\n",
        "\n",
        "L=[1,6,4,7,8,10]\n",
        "\n",
        "[\"HI\" if(i>5) else \"BYE\" for i in L ]"
      ],
      "metadata": {
        "colab": {
          "base_uri": "https://localhost:8080/"
        },
        "id": "fbFRPXUj_rxk",
        "outputId": "ee0ad39c-8d1f-4d43-d705-b957bacd7e99"
      },
      "execution_count": 6,
      "outputs": [
        {
          "output_type": "execute_result",
          "data": {
            "text/plain": [
              "['BYE', 'HI', 'BYE', 'HI', 'HI', 'HI']"
            ]
          },
          "metadata": {},
          "execution_count": 6
        }
      ]
    },
    {
      "cell_type": "code",
      "source": [
        "# If x^2 <= 10, then excute 27 multiplied by x for values in range 1-20.\n",
        "\n",
        "[27*x for x in range(1,21) if(x**2<=10)]"
      ],
      "metadata": {
        "colab": {
          "base_uri": "https://localhost:8080/"
        },
        "id": "0jDgYTGZAwq_",
        "outputId": "e19cdafe-7753-4aec-9427-75dc4b55c56e"
      },
      "execution_count": 7,
      "outputs": [
        {
          "output_type": "execute_result",
          "data": {
            "text/plain": [
              "[27, 54, 81]"
            ]
          },
          "metadata": {},
          "execution_count": 7
        }
      ]
    },
    {
      "cell_type": "code",
      "source": [
        "# Print all the even no. in the range 1-20\n",
        "\n",
        "[i for i in range(1,21) if i%2==0 ]"
      ],
      "metadata": {
        "colab": {
          "base_uri": "https://localhost:8080/"
        },
        "id": "PuEKOwnyDb9L",
        "outputId": "4209996a-5cbb-4b90-9649-8b07810beedd"
      },
      "execution_count": 8,
      "outputs": [
        {
          "output_type": "execute_result",
          "data": {
            "text/plain": [
              "[2, 4, 6, 8, 10, 12, 14, 16, 18, 20]"
            ]
          },
          "metadata": {},
          "execution_count": 8
        }
      ]
    },
    {
      "cell_type": "code",
      "source": [
        "# Find all the no. that can be divided by 2 and 5 in some range \n",
        "\n",
        "[i for i in range(1,101) if (i%2==0) and (i%5==0)]"
      ],
      "metadata": {
        "colab": {
          "base_uri": "https://localhost:8080/"
        },
        "id": "r5K_sy3IDjsf",
        "outputId": "992579cd-8ea1-4983-ee5a-76eb358f99c3"
      },
      "execution_count": 9,
      "outputs": [
        {
          "output_type": "execute_result",
          "data": {
            "text/plain": [
              "[10, 20, 30, 40, 50, 60, 70, 80, 90, 100]"
            ]
          },
          "metadata": {},
          "execution_count": 9
        }
      ]
    },
    {
      "cell_type": "code",
      "source": [
        "# Find all the no. from 1-1000 that have 3 in them. \n",
        "\n",
        "[i for i in range(1,1001) if ('3'in str(i))]"
      ],
      "metadata": {
        "colab": {
          "base_uri": "https://localhost:8080/"
        },
        "id": "hGqFv638D4Jj",
        "outputId": "dd26e12e-c313-4cc1-c6f3-fdcaa4dc9186"
      },
      "execution_count": 11,
      "outputs": [
        {
          "output_type": "execute_result",
          "data": {
            "text/plain": [
              "[3,\n",
              " 13,\n",
              " 23,\n",
              " 30,\n",
              " 31,\n",
              " 32,\n",
              " 33,\n",
              " 34,\n",
              " 35,\n",
              " 36,\n",
              " 37,\n",
              " 38,\n",
              " 39,\n",
              " 43,\n",
              " 53,\n",
              " 63,\n",
              " 73,\n",
              " 83,\n",
              " 93,\n",
              " 103,\n",
              " 113,\n",
              " 123,\n",
              " 130,\n",
              " 131,\n",
              " 132,\n",
              " 133,\n",
              " 134,\n",
              " 135,\n",
              " 136,\n",
              " 137,\n",
              " 138,\n",
              " 139,\n",
              " 143,\n",
              " 153,\n",
              " 163,\n",
              " 173,\n",
              " 183,\n",
              " 193,\n",
              " 203,\n",
              " 213,\n",
              " 223,\n",
              " 230,\n",
              " 231,\n",
              " 232,\n",
              " 233,\n",
              " 234,\n",
              " 235,\n",
              " 236,\n",
              " 237,\n",
              " 238,\n",
              " 239,\n",
              " 243,\n",
              " 253,\n",
              " 263,\n",
              " 273,\n",
              " 283,\n",
              " 293,\n",
              " 300,\n",
              " 301,\n",
              " 302,\n",
              " 303,\n",
              " 304,\n",
              " 305,\n",
              " 306,\n",
              " 307,\n",
              " 308,\n",
              " 309,\n",
              " 310,\n",
              " 311,\n",
              " 312,\n",
              " 313,\n",
              " 314,\n",
              " 315,\n",
              " 316,\n",
              " 317,\n",
              " 318,\n",
              " 319,\n",
              " 320,\n",
              " 321,\n",
              " 322,\n",
              " 323,\n",
              " 324,\n",
              " 325,\n",
              " 326,\n",
              " 327,\n",
              " 328,\n",
              " 329,\n",
              " 330,\n",
              " 331,\n",
              " 332,\n",
              " 333,\n",
              " 334,\n",
              " 335,\n",
              " 336,\n",
              " 337,\n",
              " 338,\n",
              " 339,\n",
              " 340,\n",
              " 341,\n",
              " 342,\n",
              " 343,\n",
              " 344,\n",
              " 345,\n",
              " 346,\n",
              " 347,\n",
              " 348,\n",
              " 349,\n",
              " 350,\n",
              " 351,\n",
              " 352,\n",
              " 353,\n",
              " 354,\n",
              " 355,\n",
              " 356,\n",
              " 357,\n",
              " 358,\n",
              " 359,\n",
              " 360,\n",
              " 361,\n",
              " 362,\n",
              " 363,\n",
              " 364,\n",
              " 365,\n",
              " 366,\n",
              " 367,\n",
              " 368,\n",
              " 369,\n",
              " 370,\n",
              " 371,\n",
              " 372,\n",
              " 373,\n",
              " 374,\n",
              " 375,\n",
              " 376,\n",
              " 377,\n",
              " 378,\n",
              " 379,\n",
              " 380,\n",
              " 381,\n",
              " 382,\n",
              " 383,\n",
              " 384,\n",
              " 385,\n",
              " 386,\n",
              " 387,\n",
              " 388,\n",
              " 389,\n",
              " 390,\n",
              " 391,\n",
              " 392,\n",
              " 393,\n",
              " 394,\n",
              " 395,\n",
              " 396,\n",
              " 397,\n",
              " 398,\n",
              " 399,\n",
              " 403,\n",
              " 413,\n",
              " 423,\n",
              " 430,\n",
              " 431,\n",
              " 432,\n",
              " 433,\n",
              " 434,\n",
              " 435,\n",
              " 436,\n",
              " 437,\n",
              " 438,\n",
              " 439,\n",
              " 443,\n",
              " 453,\n",
              " 463,\n",
              " 473,\n",
              " 483,\n",
              " 493,\n",
              " 503,\n",
              " 513,\n",
              " 523,\n",
              " 530,\n",
              " 531,\n",
              " 532,\n",
              " 533,\n",
              " 534,\n",
              " 535,\n",
              " 536,\n",
              " 537,\n",
              " 538,\n",
              " 539,\n",
              " 543,\n",
              " 553,\n",
              " 563,\n",
              " 573,\n",
              " 583,\n",
              " 593,\n",
              " 603,\n",
              " 613,\n",
              " 623,\n",
              " 630,\n",
              " 631,\n",
              " 632,\n",
              " 633,\n",
              " 634,\n",
              " 635,\n",
              " 636,\n",
              " 637,\n",
              " 638,\n",
              " 639,\n",
              " 643,\n",
              " 653,\n",
              " 663,\n",
              " 673,\n",
              " 683,\n",
              " 693,\n",
              " 703,\n",
              " 713,\n",
              " 723,\n",
              " 730,\n",
              " 731,\n",
              " 732,\n",
              " 733,\n",
              " 734,\n",
              " 735,\n",
              " 736,\n",
              " 737,\n",
              " 738,\n",
              " 739,\n",
              " 743,\n",
              " 753,\n",
              " 763,\n",
              " 773,\n",
              " 783,\n",
              " 793,\n",
              " 803,\n",
              " 813,\n",
              " 823,\n",
              " 830,\n",
              " 831,\n",
              " 832,\n",
              " 833,\n",
              " 834,\n",
              " 835,\n",
              " 836,\n",
              " 837,\n",
              " 838,\n",
              " 839,\n",
              " 843,\n",
              " 853,\n",
              " 863,\n",
              " 873,\n",
              " 883,\n",
              " 893,\n",
              " 903,\n",
              " 913,\n",
              " 923,\n",
              " 930,\n",
              " 931,\n",
              " 932,\n",
              " 933,\n",
              " 934,\n",
              " 935,\n",
              " 936,\n",
              " 937,\n",
              " 938,\n",
              " 939,\n",
              " 943,\n",
              " 953,\n",
              " 963,\n",
              " 973,\n",
              " 983,\n",
              " 993]"
            ]
          },
          "metadata": {},
          "execution_count": 11
        }
      ]
    },
    {
      "cell_type": "code",
      "source": [
        "# Count the no of the spaces in the string.\n",
        "\n",
        "S = \"I Love my country India\"\n",
        "l1=[i for i in S if i==' ']\n",
        "print(len(l1))"
      ],
      "metadata": {
        "colab": {
          "base_uri": "https://localhost:8080/"
        },
        "id": "mvoY525hGRB5",
        "outputId": "9ed0da35-1617-416c-be92-c7cf345910e9"
      },
      "execution_count": 15,
      "outputs": [
        {
          "output_type": "stream",
          "name": "stdout",
          "text": [
            "3\n"
          ]
        }
      ]
    },
    {
      "cell_type": "code",
      "source": [
        "# Count the no. of consonent present in the string.\n",
        "\n",
        "s=\" I am Student of CSIT Department\"\n",
        "v=['a','e','i','o','u', ' ']\n",
        "l=[i for i in s if (i not in v )]\n",
        "print(len(l))"
      ],
      "metadata": {
        "id": "JzJQFt_jHR-f",
        "outputId": "ff23a821-4d07-46d3-a509-2bea4b731b42",
        "colab": {
          "base_uri": "https://localhost:8080/"
        }
      },
      "execution_count": 18,
      "outputs": [
        {
          "output_type": "stream",
          "name": "stdout",
          "text": [
            "19\n"
          ]
        }
      ]
    }
  ]
}